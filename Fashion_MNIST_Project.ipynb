{
  "nbformat": 4,
  "nbformat_minor": 2,
  "metadata": {
    "accelerator": "GPU",
    "colab": {
      "name": "Fashion_MNIST_Project.ipynb",
      "provenance": []
    },
    "kernelspec": {
      "display_name": "Python 3",
      "name": "python3"
    },
    "language_info": {
      "name": "python"
    }
  },
  "cells": [
    {
      "cell_type": "markdown",
      "source": [
        "# **Fashion MNIST PROJECT**"
      ],
      "metadata": {
        "id": "mUgzB9SfX_yi"
      }
    },
    {
      "cell_type": "markdown",
      "source": [
        "**Used Fashion MNIST dataset from keras**"
      ],
      "metadata": {
        "id": "XKD3fg-pYXIm"
      }
    },
    {
      "cell_type": "markdown",
      "source": [
        "##**Importing required libraries**"
      ],
      "metadata": {
        "id": "c3_kxS7hYlaH"
      }
    },
    {
      "cell_type": "code",
      "execution_count": null,
      "source": [
        "import numpy as np\r\n",
        "import matplotlib.pyplot as plt\r\n",
        "import keras\r\n",
        "import tensorflow as tf\r\n",
        "from tensorflow import keras\r\n",
        "from tensorflow.keras import layers,regularizers\r\n",
        "import seaborn as sns\r\n",
        "from keras.datasets import fashion_mnist\r\n",
        "from sklearn.model_selection import train_test_split\r\n",
        "from sklearn.metrics import confusion_matrix\r\n",
        "from sklearn.metrics import classification_report"
      ],
      "outputs": [],
      "metadata": {
        "id": "DkRk1ltwXu0p"
      }
    },
    {
      "cell_type": "markdown",
      "source": [
        "## **Loading data**"
      ],
      "metadata": {
        "id": "Fu10j6zHZKgk"
      }
    },
    {
      "cell_type": "markdown",
      "source": [
        "### **Data Description**\n",
        "This is a dataset of 60,000 28x28 grayscale images of 10 fashion categories,\n",
        "along with a test set of 10,000 images. \n",
        "The classes are:\n",
        "\n",
        "Label\tDescription:\n",
        "\n",
        "{\n",
        "0: T-shirt/top,\n",
        "\n",
        "1: Trouser,\n",
        "\n",
        "2: Pullover,\n",
        "\n",
        "3: Dress,\n",
        "\n",
        "4: Coat,\n",
        "\n",
        "5: Sandal,\n",
        "\n",
        "6: Shirt,\n",
        "\n",
        "7: Sneaker,\n",
        "\n",
        "8: Bag,\n",
        "\n",
        "9: Ankle boot}\n",
        "\n",
        "Returns:\n",
        "  Tuple of NumPy arrays: (x_train, y_train), (x_test, y_test).\n",
        "\n",
        "**x_train**: uint8 NumPy array of grayscale image data with shapes\n",
        "  (60000, 28, 28), containing the training data.\n",
        "\n",
        "**y_train**: uint8 NumPy array of labels (integers in range 0-9)\n",
        "  with shape (60000,) for the training data.\n",
        "\n",
        "**x_test**: uint8 NumPy array of grayscale image data with shapes\n",
        "  (10000, 28, 28), containing the test data.\n",
        "\n",
        "**y_test**: uint8 NumPy array of labels (integers in range 0-9)\n",
        "  with shape (10000,) for the test data.\n"
      ],
      "metadata": {
        "id": "xF6-NjEtbOL6"
      }
    },
    {
      "cell_type": "code",
      "execution_count": null,
      "source": [
        "(X_train,y_train),(X_test,y_test)=fashion_mnist.load_data()"
      ],
      "outputs": [
        {
          "output_type": "stream",
          "name": "stdout",
          "text": [
            "Downloading data from https://storage.googleapis.com/tensorflow/tf-keras-datasets/train-labels-idx1-ubyte.gz\n",
            "32768/29515 [=================================] - 0s 0us/step\n",
            "40960/29515 [=========================================] - 0s 0us/step\n",
            "Downloading data from https://storage.googleapis.com/tensorflow/tf-keras-datasets/train-images-idx3-ubyte.gz\n",
            "26427392/26421880 [==============================] - 0s 0us/step\n",
            "26435584/26421880 [==============================] - 0s 0us/step\n",
            "Downloading data from https://storage.googleapis.com/tensorflow/tf-keras-datasets/t10k-labels-idx1-ubyte.gz\n",
            "16384/5148 [===============================================================================================] - 0s 0us/step\n",
            "Downloading data from https://storage.googleapis.com/tensorflow/tf-keras-datasets/t10k-images-idx3-ubyte.gz\n",
            "4423680/4422102 [==============================] - 0s 0us/step\n",
            "4431872/4422102 [==============================] - 0s 0us/step\n"
          ]
        }
      ],
      "metadata": {
        "colab": {
          "base_uri": "https://localhost:8080/"
        },
        "id": "MIuCaKrgZIl7",
        "outputId": "77a66fa1-972c-494f-c15a-377d1271d681"
      }
    },
    {
      "cell_type": "code",
      "execution_count": null,
      "source": [
        "#defining class labels for the images\r\n",
        "class_label=[\"T-shirt/top\", \"Trouser\",\"Pullover\",\"Dress\",\"Coat\",\"Sandal\",\"Shirt\",\"Sneaker\",\"Bag\",\"Ankle boot\"]"
      ],
      "outputs": [],
      "metadata": {
        "id": "bP8ANMEUZRwS"
      }
    },
    {
      "cell_type": "markdown",
      "source": [
        "**Checking Random Images**"
      ],
      "metadata": {
        "id": "u9K2AtAMenCa"
      }
    },
    {
      "cell_type": "code",
      "execution_count": null,
      "source": [
        "plt.figure(figsize=(16,16))\r\n",
        "\r\n",
        "c=1\r\n",
        "for i in np.random.randint(0,10000,25):\r\n",
        "  plt.subplot(5,5,c)\r\n",
        "  c+=1\r\n",
        "  plt.imshow(X_train[i],cmap=\"Greys\")\r\n",
        "  plt.axis(\"off\")\r\n",
        "  plt.title(\"{} : {}\".format(class_label[y_train[i]],y_train[i]))"
      ],
      "outputs": [
        {
          "output_type": "display_data",
          "data": {
            "text/plain": [
              "<Figure size 1152x1152 with 25 Axes>"
            ],
            "image/png": "[encoded data removed]"
          },
          "metadata": {
            "tags": []
          }
        }
      ],
      "metadata": {
        "colab": {
          "base_uri": "https://localhost:8080/",
          "height": 917
        },
        "id": "gXVeHMTCet87",
        "outputId": "a0966cfb-69b0-426f-f73c-5678399eb734"
      }
    },
    {
      "cell_type": "markdown",
      "source": [
        "## **Feature Normalization**\n",
        "First expanding the dimensions of the images from 3 dimensions to 4 dimensions to fit the CNN then normalizing the images by dividing by 255.0"
      ],
      "metadata": {
        "id": "8eCCC9kOvIXx"
      }
    },
    {
      "cell_type": "code",
      "execution_count": null,
      "source": [
        "#dimension expansion\r\n",
        "print(\"Before Expanding the dimensions\",X_train.shape, X_test.shape)\r\n",
        "\r\n",
        "X_train=np.expand_dims(X_train,-1)\r\n",
        "X_test=np.expand_dims(X_test,-1)\r\n",
        "\r\n",
        "print(\"After Expanding the dimensions\",X_train.shape, X_test.shape)"
      ],
      "outputs": [
        {
          "output_type": "stream",
          "name": "stdout",
          "text": [
            "Before Expanding the dimensions (60000, 28, 28) (10000, 28, 28)\n",
            "After Expanding the dimensions (60000, 28, 28, 1) (10000, 28, 28, 1)\n"
          ]
        }
      ],
      "metadata": {
        "colab": {
          "base_uri": "https://localhost:8080/"
        },
        "id": "ahBNqz34fyGj",
        "outputId": "786ffeee-5f23-4747-9d86-b16bf47acfd9"
      }
    },
    {
      "cell_type": "code",
      "execution_count": null,
      "source": [
        "#feature scaling\r\n",
        "X_train=X_train/255.0\r\n",
        "X_test=X_test/255.0"
      ],
      "outputs": [],
      "metadata": {
        "id": "hgKNVlIOvgiD"
      }
    },
    {
      "cell_type": "markdown",
      "source": [
        "## **Splitting into Validation Data**\n",
        "Split the training data into validation and train data. 20% of the training images will be used as validation data,i.e 12000 images for validation, 48000 for training and 10000 imagest for test. Each Image Class will have equal representation during splitting."
      ],
      "metadata": {
        "id": "DBKXC7FgwNrN"
      }
    },
    {
      "cell_type": "code",
      "execution_count": null,
      "source": [
        "X_train,X_val,y_train,y_val=train_test_split(X_train,y_train,test_size=0.2,random_state=21,stratify=y_train)\r\n",
        "print(\"After Splitting\\nX_train & y_train\",X_train.shape,y_train.shape)\r\n",
        "print(\"X_val & y_val\",X_val.shape,y_val.shape)\r\n",
        "print(\"X_test & y_test\",X_test.shape,y_test.shape)"
      ],
      "outputs": [
        {
          "output_type": "stream",
          "name": "stdout",
          "text": [
            "After Splitting\n",
            "X_train & y_train (48000, 28, 28, 1) (48000,)\n",
            "X_val & y_val (12000, 28, 28, 1) (12000,)\n",
            "X_test & y_test (10000, 28, 28, 1) (10000,)\n"
          ]
        }
      ],
      "metadata": {
        "colab": {
          "base_uri": "https://localhost:8080/"
        },
        "id": "KSOuB9E_wLN7",
        "outputId": "44839800-3b54-4736-c773-bb9b96fe4c10"
      }
    },
    {
      "cell_type": "markdown",
      "source": [
        "## **CNN for Image Classification**"
      ],
      "metadata": {
        "id": "-wCkVJkiy3mT"
      }
    },
    {
      "cell_type": "code",
      "execution_count": null,
      "source": [
        "#making the model function\r\n",
        "def my_model():\r\n",
        "    inputs = keras.Input(shape=(28, 28, 1))\r\n",
        "\r\n",
        "    x = layers.Conv2D(32, 3, padding=\"same\", kernel_regularizer=regularizers.l2(0.01),)(inputs)\r\n",
        "    x = layers.BatchNormalization()(x)\r\n",
        "    x = keras.activations.relu(x)\r\n",
        "    x = layers.MaxPooling2D()(x)\r\n",
        "\r\n",
        "    x = layers.Conv2D(64, 3, padding=\"same\", kernel_regularizer=regularizers.l2(0.01),)(x)\r\n",
        "    x = layers.BatchNormalization()(x)\r\n",
        "    x = keras.activations.relu(x)\r\n",
        "    x = layers.MaxPooling2D()(x)\r\n",
        "\r\n",
        "    x = layers.Conv2D(128, 3, padding=\"same\", kernel_regularizer=regularizers.l2(0.01),)(x)\r\n",
        "    x = layers.BatchNormalization()(x)\r\n",
        "    x = keras.activations.relu(x)\r\n",
        "    x = layers.MaxPooling2D()(x)\r\n",
        "\r\n",
        "    x = layers.Conv2D(128, 3, padding=\"same\", kernel_regularizer=regularizers.l2(0.01),)(x)\r\n",
        "    x = layers.BatchNormalization()(x)\r\n",
        "    x = keras.activations.relu(x)\r\n",
        "    x = layers.Flatten()(x)\r\n",
        "\r\n",
        "    x = layers.Dense(256, activation=\"relu\", kernel_regularizer=regularizers.l2(0.01),)(x)\r\n",
        "    x = layers.Dropout(0.5)(x)\r\n",
        "\r\n",
        "    x = layers.Dense(128, activation=\"relu\", kernel_regularizer=regularizers.l2(0.01),)(x)\r\n",
        "    x = layers.Dropout(0.5)(x)\r\n",
        "\r\n",
        "    x = layers.Dense(64, activation=\"relu\", kernel_regularizer=regularizers.l2(0.01),)(x)\r\n",
        "    #x = layers.Dropout(0.5)(x)\r\n",
        "\r\n",
        "    x = layers.Dense(32, activation=\"relu\", kernel_regularizer=regularizers.l2(0.01),)(x)\r\n",
        "    #x = layers.Dropout(0.5)(x)\r\n",
        "    outputs = layers.Dense(10,activation=\"softmax\")(x)\r\n",
        "    model = keras.Model(inputs=inputs, outputs=outputs)\r\n",
        "    return model"
      ],
      "outputs": [],
      "metadata": {
        "id": "V_L_xoivyRfR"
      }
    },
    {
      "cell_type": "code",
      "execution_count": null,
      "source": [
        "model = my_model()\r\n",
        "model.compile(\r\n",
        "    loss=keras.losses.SparseCategoricalCrossentropy(from_logits=True),\r\n",
        "    optimizer=keras.optimizers.Adam(lr=3e-4),\r\n",
        "    metrics=[\"accuracy\"],\r\n",
        ")\r\n",
        "print(model.summary())\r\n",
        "model.fit(X_train, y_train, batch_size=64, epochs=35, verbose=1,validation_data=(X_val,y_val))\r\n",
        "model.evaluate(X_val, y_val, batch_size=64, verbose=1)"
      ],
      "outputs": [
        {
          "output_type": "stream",
          "name": "stderr",
          "text": [
            "/usr/local/lib/python3.7/dist-packages/tensorflow/python/keras/optimizer_v2/optimizer_v2.py:375: UserWarning: The `lr` argument is deprecated, use `learning_rate` instead.\n",
            "  \"The `lr` argument is deprecated, use `learning_rate` instead.\")\n",
            "/usr/local/lib/python3.7/dist-packages/tensorflow/python/keras/backend.py:4930: UserWarning: \"`sparse_categorical_crossentropy` received `from_logits=True`, but the `output` argument was produced by a sigmoid or softmax activation and thus does not represent logits. Was this intended?\"\n",
            "  '\"`sparse_categorical_crossentropy` received `from_logits=True`, but '\n"
          ]
        },
        {
          "output_type": "stream",
          "name": "stdout",
          "text": [
            "Model: \"model_6\"\n",
            "_________________________________________________________________\n",
            "Layer (type)                 Output Shape              Param #   \n",
            "=================================================================\n",
            "input_8 (InputLayer)         [(None, 28, 28, 1)]       0         \n",
            "_________________________________________________________________\n",
            "conv2d_27 (Conv2D)           (None, 28, 28, 32)        320       \n",
            "_________________________________________________________________\n",
            "batch_normalization_26 (Batc (None, 28, 28, 32)        128       \n",
            "_________________________________________________________________\n",
            "tf.nn.relu_26 (TFOpLambda)   (None, 28, 28, 32)        0         \n",
            "_________________________________________________________________\n",
            "max_pooling2d_20 (MaxPooling (None, 14, 14, 32)        0         \n",
            "_________________________________________________________________\n",
            "conv2d_28 (Conv2D)           (None, 14, 14, 64)        18496     \n",
            "_________________________________________________________________\n",
            "batch_normalization_27 (Batc (None, 14, 14, 64)        256       \n",
            "_________________________________________________________________\n",
            "tf.nn.relu_27 (TFOpLambda)   (None, 14, 14, 64)        0         \n",
            "_________________________________________________________________\n",
            "max_pooling2d_21 (MaxPooling (None, 7, 7, 64)          0         \n",
            "_________________________________________________________________\n",
            "conv2d_29 (Conv2D)           (None, 7, 7, 128)         73856     \n",
            "_________________________________________________________________\n",
            "batch_normalization_28 (Batc (None, 7, 7, 128)         512       \n",
            "_________________________________________________________________\n",
            "tf.nn.relu_28 (TFOpLambda)   (None, 7, 7, 128)         0         \n",
            "_________________________________________________________________\n",
            "max_pooling2d_22 (MaxPooling (None, 3, 3, 128)         0         \n",
            "_________________________________________________________________\n",
            "conv2d_30 (Conv2D)           (None, 3, 3, 128)         147584    \n",
            "_________________________________________________________________\n",
            "batch_normalization_29 (Batc (None, 3, 3, 128)         512       \n",
            "_________________________________________________________________\n",
            "tf.nn.relu_29 (TFOpLambda)   (None, 3, 3, 128)         0         \n",
            "_________________________________________________________________\n",
            "flatten_6 (Flatten)          (None, 1152)              0         \n",
            "_________________________________________________________________\n",
            "dense_24 (Dense)             (None, 256)               295168    \n",
            "_________________________________________________________________\n",
            "dropout_10 (Dropout)         (None, 256)               0         \n",
            "_________________________________________________________________\n",
            "dense_25 (Dense)             (None, 128)               32896     \n",
            "_________________________________________________________________\n",
            "dropout_11 (Dropout)         (None, 128)               0         \n",
            "_________________________________________________________________\n",
            "dense_26 (Dense)             (None, 64)                8256      \n",
            "_________________________________________________________________\n",
            "dense_27 (Dense)             (None, 32)                2080      \n",
            "_________________________________________________________________\n",
            "dense_28 (Dense)             (None, 10)                330       \n",
            "=================================================================\n",
            "Total params: 580,394\n",
            "Trainable params: 579,690\n",
            "Non-trainable params: 704\n",
            "_________________________________________________________________\n",
            "None\n",
            "Epoch 1/35\n",
            "750/750 [==============================] - 6s 7ms/step - loss: 4.8969 - accuracy: 0.7448 - val_loss: 2.1609 - val_accuracy: 0.8508\n",
            "Epoch 2/35\n",
            "750/750 [==============================] - 5s 6ms/step - loss: 1.4859 - accuracy: 0.8680 - val_loss: 1.0677 - val_accuracy: 0.8745\n",
            "Epoch 3/35\n",
            "750/750 [==============================] - 5s 6ms/step - loss: 0.8997 - accuracy: 0.8888 - val_loss: 0.8045 - val_accuracy: 0.8779\n",
            "Epoch 4/35\n",
            "750/750 [==============================] - 5s 6ms/step - loss: 0.7206 - accuracy: 0.8993 - val_loss: 0.6974 - val_accuracy: 0.8812\n",
            "Epoch 5/35\n",
            "750/750 [==============================] - 5s 6ms/step - loss: 0.6437 - accuracy: 0.9016 - val_loss: 0.6305 - val_accuracy: 0.8929\n",
            "Epoch 6/35\n",
            "750/750 [==============================] - 5s 6ms/step - loss: 0.5933 - accuracy: 0.9091 - val_loss: 0.5850 - val_accuracy: 0.9032\n",
            "Epoch 7/35\n",
            "750/750 [==============================] - 5s 6ms/step - loss: 0.5722 - accuracy: 0.9121 - val_loss: 0.6151 - val_accuracy: 0.8886\n",
            "Epoch 8/35\n",
            "750/750 [==============================] - 5s 6ms/step - loss: 0.5528 - accuracy: 0.9144 - val_loss: 0.5690 - val_accuracy: 0.9028\n",
            "Epoch 9/35\n",
            "750/750 [==============================] - 5s 6ms/step - loss: 0.5351 - accuracy: 0.9183 - val_loss: 0.5232 - val_accuracy: 0.9143\n",
            "Epoch 10/35\n",
            "750/750 [==============================] - 5s 6ms/step - loss: 0.5178 - accuracy: 0.9203 - val_loss: 0.5707 - val_accuracy: 0.8948\n",
            "Epoch 11/35\n",
            "750/750 [==============================] - 5s 6ms/step - loss: 0.5090 - accuracy: 0.9222 - val_loss: 0.5416 - val_accuracy: 0.9051\n",
            "Epoch 12/35\n",
            "750/750 [==============================] - 4s 6ms/step - loss: 0.4972 - accuracy: 0.9246 - val_loss: 0.5208 - val_accuracy: 0.9066\n",
            "Epoch 13/35\n",
            "750/750 [==============================] - 4s 6ms/step - loss: 0.4890 - accuracy: 0.9246 - val_loss: 0.5110 - val_accuracy: 0.9093\n",
            "Epoch 14/35\n",
            "750/750 [==============================] - 4s 6ms/step - loss: 0.4826 - accuracy: 0.9271 - val_loss: 0.5571 - val_accuracy: 0.8957\n",
            "Epoch 15/35\n",
            "750/750 [==============================] - 4s 6ms/step - loss: 0.4775 - accuracy: 0.9267 - val_loss: 0.5348 - val_accuracy: 0.9003\n",
            "Epoch 16/35\n",
            "750/750 [==============================] - 4s 6ms/step - loss: 0.4677 - accuracy: 0.9284 - val_loss: 0.5158 - val_accuracy: 0.9072\n",
            "Epoch 17/35\n",
            "750/750 [==============================] - 4s 6ms/step - loss: 0.4615 - accuracy: 0.9305 - val_loss: 0.5542 - val_accuracy: 0.8913\n",
            "Epoch 18/35\n",
            "750/750 [==============================] - 4s 6ms/step - loss: 0.4568 - accuracy: 0.9319 - val_loss: 0.5320 - val_accuracy: 0.9007\n",
            "Epoch 19/35\n",
            "750/750 [==============================] - 5s 6ms/step - loss: 0.4492 - accuracy: 0.9334 - val_loss: 0.5533 - val_accuracy: 0.8978\n",
            "Epoch 20/35\n",
            "750/750 [==============================] - 5s 6ms/step - loss: 0.4440 - accuracy: 0.9332 - val_loss: 0.4996 - val_accuracy: 0.9079\n",
            "Epoch 21/35\n",
            "750/750 [==============================] - 5s 6ms/step - loss: 0.4390 - accuracy: 0.9356 - val_loss: 0.5406 - val_accuracy: 0.8979\n",
            "Epoch 22/35\n",
            "750/750 [==============================] - 5s 6ms/step - loss: 0.4386 - accuracy: 0.9350 - val_loss: 0.5210 - val_accuracy: 0.9028\n",
            "Epoch 23/35\n",
            "750/750 [==============================] - 5s 6ms/step - loss: 0.4320 - accuracy: 0.9366 - val_loss: 0.5257 - val_accuracy: 0.8982\n",
            "Epoch 24/35\n",
            "750/750 [==============================] - 5s 6ms/step - loss: 0.4365 - accuracy: 0.9354 - val_loss: 0.4955 - val_accuracy: 0.9127\n",
            "Epoch 25/35\n",
            "750/750 [==============================] - 5s 6ms/step - loss: 0.4254 - accuracy: 0.9371 - val_loss: 0.4864 - val_accuracy: 0.9136\n",
            "Epoch 26/35\n",
            "750/750 [==============================] - 5s 6ms/step - loss: 0.4227 - accuracy: 0.9372 - val_loss: 0.5109 - val_accuracy: 0.9032\n",
            "Epoch 27/35\n",
            "750/750 [==============================] - 5s 6ms/step - loss: 0.4220 - accuracy: 0.9383 - val_loss: 0.5087 - val_accuracy: 0.9069\n",
            "Epoch 28/35\n",
            "750/750 [==============================] - 4s 6ms/step - loss: 0.4154 - accuracy: 0.9395 - val_loss: 0.4980 - val_accuracy: 0.9074\n",
            "Epoch 29/35\n",
            "750/750 [==============================] - 4s 6ms/step - loss: 0.4182 - accuracy: 0.9394 - val_loss: 0.6018 - val_accuracy: 0.8729\n",
            "Epoch 30/35\n",
            "750/750 [==============================] - 5s 6ms/step - loss: 0.4107 - accuracy: 0.9402 - val_loss: 0.5263 - val_accuracy: 0.8990\n",
            "Epoch 31/35\n",
            "750/750 [==============================] - 5s 6ms/step - loss: 0.4123 - accuracy: 0.9396 - val_loss: 0.4810 - val_accuracy: 0.9130\n",
            "Epoch 32/35\n",
            "750/750 [==============================] - 4s 6ms/step - loss: 0.4060 - accuracy: 0.9419 - val_loss: 0.4824 - val_accuracy: 0.9162\n",
            "Epoch 33/35\n",
            "750/750 [==============================] - 5s 6ms/step - loss: 0.4057 - accuracy: 0.9414 - val_loss: 0.5080 - val_accuracy: 0.9072\n",
            "Epoch 34/35\n",
            "750/750 [==============================] - 5s 6ms/step - loss: 0.4055 - accuracy: 0.9411 - val_loss: 0.5019 - val_accuracy: 0.9067\n",
            "Epoch 35/35\n",
            "750/750 [==============================] - 5s 6ms/step - loss: 0.4029 - accuracy: 0.9420 - val_loss: 0.5141 - val_accuracy: 0.9016\n",
            "188/188 [==============================] - 1s 3ms/step - loss: 0.5141 - accuracy: 0.9016\n"
          ]
        },
        {
          "output_type": "execute_result",
          "data": {
            "text/plain": [
              "[0.5141129493713379, 0.9015833139419556]"
            ]
          },
          "metadata": {
            "tags": []
          },
          "execution_count": 48
        }
      ],
      "metadata": {
        "colab": {
          "base_uri": "https://localhost:8080/"
        },
        "id": "2Wd1VWWVzEfs",
        "outputId": "ee095fc1-5336-47ae-e84e-5b619d0ba59f"
      }
    },
    {
      "cell_type": "code",
      "execution_count": null,
      "source": [
        "print(\"Test Data accuracy:\")\r\n",
        "model.evaluate(X_test, y_test, batch_size=64, verbose=2)"
      ],
      "outputs": [
        {
          "output_type": "stream",
          "name": "stdout",
          "text": [
            "Test Data accuracy:\n",
            "157/157 - 0s - loss: 0.5329 - accuracy: 0.8971\n"
          ]
        },
        {
          "output_type": "execute_result",
          "data": {
            "text/plain": [
              "[0.5328837633132935, 0.8970999717712402]"
            ]
          },
          "metadata": {
            "tags": []
          },
          "execution_count": 49
        }
      ],
      "metadata": {
        "colab": {
          "base_uri": "https://localhost:8080/"
        },
        "id": "BoZYbbvPNtAT",
        "outputId": "d977188e-3786-4ace-cb64-767e624c06a5"
      }
    },
    {
      "cell_type": "markdown",
      "source": [
        "**This is a generalized model, since the difference between Training, Validation and Test accuracy is not much.**"
      ],
      "metadata": {
        "id": "UfATO6ubgiED"
      }
    },
    {
      "cell_type": "code",
      "execution_count": null,
      "source": [
        "y_pred=model.predict(X_test)\r\n",
        "y_pred.round(2)"
      ],
      "outputs": [
        {
          "output_type": "execute_result",
          "data": {
            "text/plain": [
              "array([[0.  , 0.  , 0.  , ..., 0.  , 0.  , 1.  ],\n",
              "       [0.  , 0.  , 0.99, ..., 0.  , 0.  , 0.  ],\n",
              "       [0.  , 1.  , 0.  , ..., 0.  , 0.  , 0.  ],\n",
              "       ...,\n",
              "       [0.  , 0.  , 0.  , ..., 0.  , 1.  , 0.  ],\n",
              "       [0.  , 1.  , 0.  , ..., 0.  , 0.  , 0.  ],\n",
              "       [0.  , 0.  , 0.  , ..., 0.96, 0.01, 0.02]], dtype=float32)"
            ]
          },
          "metadata": {
            "tags": []
          },
          "execution_count": 51
        }
      ],
      "metadata": {
        "colab": {
          "base_uri": "https://localhost:8080/"
        },
        "id": "53f7M6jkOycQ",
        "outputId": "2f792c1e-c784-4d99-b514-736565b43d8d"
      }
    },
    {
      "cell_type": "markdown",
      "source": [
        "## **Analyzing Test Results**\n"
      ],
      "metadata": {
        "id": "7vpVlIjs0cXU"
      }
    },
    {
      "cell_type": "markdown",
      "source": [
        "**Confusion Matrix**"
      ],
      "metadata": {
        "id": "d7zhC-9m0kzn"
      }
    },
    {
      "cell_type": "code",
      "execution_count": null,
      "source": [
        "#finding labels from predicted matrix\r\n",
        "y_pred_label=[]\r\n",
        "for i in y_pred:\r\n",
        "  y_pred_label.append(np.argmax(i))\r\n",
        "\r\n",
        "plt.figure(figsize=(18,9))\r\n",
        "\r\n",
        "conf_mat=confusion_matrix(y_test,y_pred_label)\r\n",
        "\r\n",
        "#plotting heatmap of confusion matrix\r\n",
        "sns.heatmap(conf_mat,annot=True,fmt='d',xticklabels=class_label,yticklabels=class_label)\r\n"
      ],
      "outputs": [
        {
          "output_type": "execute_result",
          "data": {
            "text/plain": [
              "<matplotlib.axes._subplots.AxesSubplot at 0x7f46e00f0b10>"
            ]
          },
          "metadata": {
            "tags": []
          },
          "execution_count": 52
        },
        {
          "output_type": "display_data",
          "data": {
            "text/plain": [
              "<Figure size 1296x648 with 2 Axes>"
            ],
            "image/png": "[encoded data removed]"
          },
          "metadata": {
            "tags": []
          }
        }
      ],
      "metadata": {
        "colab": {
          "base_uri": "https://localhost:8080/",
          "height": 554
        },
        "id": "kQ1Yr7yE0bp4",
        "outputId": "6bf9e252-b824-4919-ecb0-cade2ebbd844"
      }
    },
    {
      "cell_type": "markdown",
      "source": [
        "**Classification Report**"
      ],
      "metadata": {
        "id": "vHGK_sup2zg4"
      }
    },
    {
      "cell_type": "code",
      "execution_count": null,
      "source": [
        "class_report=classification_report(y_test,y_pred_label,target_names=class_label)\r\n",
        "print(class_report)"
      ],
      "outputs": [
        {
          "output_type": "stream",
          "name": "stdout",
          "text": [
            "              precision    recall  f1-score   support\n",
            "\n",
            " T-shirt/top       0.89      0.77      0.83      1000\n",
            "     Trouser       0.99      0.98      0.98      1000\n",
            "    Pullover       0.85      0.87      0.86      1000\n",
            "       Dress       0.92      0.88      0.90      1000\n",
            "        Coat       0.87      0.81      0.84      1000\n",
            "      Sandal       0.99      0.95      0.97      1000\n",
            "       Shirt       0.66      0.81      0.73      1000\n",
            "     Sneaker       0.90      0.99      0.95      1000\n",
            "         Bag       0.97      0.98      0.98      1000\n",
            "  Ankle boot       0.98      0.93      0.95      1000\n",
            "\n",
            "    accuracy                           0.90     10000\n",
            "   macro avg       0.90      0.90      0.90     10000\n",
            "weighted avg       0.90      0.90      0.90     10000\n",
            "\n"
          ]
        }
      ],
      "metadata": {
        "colab": {
          "base_uri": "https://localhost:8080/"
        },
        "id": "jmLk8i-q0ivJ",
        "outputId": "584cdb94-3572-43bf-e22b-2578ce8f6942"
      }
    },
    {
      "cell_type": "markdown",
      "source": [
        "# **Saving Model**"
      ],
      "metadata": {
        "id": "q4DTCOEtJDCW"
      }
    },
    {
      "cell_type": "code",
      "execution_count": null,
      "source": [
        "model.save(\"Fashion_MNIST_Project_Model.h5\")"
      ],
      "outputs": [],
      "metadata": {
        "id": "uoVVpGqR24tu"
      }
    },
    {
      "cell_type": "code",
      "execution_count": null,
      "source": [
        "deploy_model=keras.models.load_model(\"Fashion_MNIST_Project_Model.h5\")"
      ],
      "outputs": [],
      "metadata": {
        "id": "WXRScvDBJHZK"
      }
    },
    {
      "cell_type": "code",
      "execution_count": null,
      "source": [
        "y_pred=deploy_model.predict(X_test)\r\n",
        "y_pred.round(2)"
      ],
      "outputs": [
        {
          "output_type": "execute_result",
          "data": {
            "text/plain": [
              "array([[0.  , 0.  , 0.  , ..., 0.  , 0.  , 1.  ],\n",
              "       [0.  , 0.  , 0.99, ..., 0.  , 0.  , 0.  ],\n",
              "       [0.  , 1.  , 0.  , ..., 0.  , 0.  , 0.  ],\n",
              "       ...,\n",
              "       [0.  , 0.  , 0.  , ..., 0.  , 1.  , 0.  ],\n",
              "       [0.  , 1.  , 0.  , ..., 0.  , 0.  , 0.  ],\n",
              "       [0.  , 0.  , 0.  , ..., 0.96, 0.01, 0.02]], dtype=float32)"
            ]
          },
          "metadata": {
            "tags": []
          },
          "execution_count": 10
        }
      ],
      "metadata": {
        "colab": {
          "base_uri": "https://localhost:8080/"
        },
        "id": "yc1jQAc4Jtu_",
        "outputId": "0a7dd9bb-245d-40f3-cc46-b1df57bf6898"
      }
    },
    {
      "cell_type": "markdown",
      "source": [
        "# **Deploy Model**"
      ],
      "metadata": {
        "id": "1mNtnb9COaRG"
      }
    },
    {
      "cell_type": "code",
      "execution_count": null,
      "source": [
        "!pip install -U ipykernel"
      ],
      "outputs": [
        {
          "output_type": "stream",
          "name": "stdout",
          "text": [
            "Requirement already satisfied: ipykernel in /usr/local/lib/python3.7/dist-packages (6.0.3)\n",
            "Requirement already satisfied: ipython<8.0,>=7.23.1 in /usr/local/lib/python3.7/dist-packages (from ipykernel) (7.25.0)\n",
            "Requirement already satisfied: matplotlib-inline<0.2.0,>=0.1.0 in /usr/local/lib/python3.7/dist-packages (from ipykernel) (0.1.2)\n",
            "Requirement already satisfied: tornado<7.0,>=4.2 in /usr/local/lib/python3.7/dist-packages (from ipykernel) (5.1.1)\n",
            "Requirement already satisfied: traitlets<6.0,>=4.1.0 in /usr/local/lib/python3.7/dist-packages (from ipykernel) (5.0.5)\n",
            "Requirement already satisfied: importlib-metadata<4 in /usr/local/lib/python3.7/dist-packages (from ipykernel) (3.10.1)\n",
            "Requirement already satisfied: debugpy<2.0,>=1.0.0 in /usr/local/lib/python3.7/dist-packages (from ipykernel) (1.0.0)\n",
            "Requirement already satisfied: jupyter-client<7.0 in /usr/local/lib/python3.7/dist-packages (from ipykernel) (5.3.5)\n",
            "Requirement already satisfied: typing-extensions>=3.6.4 in /usr/local/lib/python3.7/dist-packages (from importlib-metadata<4->ipykernel) (3.7.4.3)\n",
            "Requirement already satisfied: zipp>=0.5 in /usr/local/lib/python3.7/dist-packages (from importlib-metadata<4->ipykernel) (3.5.0)\n",
            "Requirement already satisfied: decorator in /usr/local/lib/python3.7/dist-packages (from ipython<8.0,>=7.23.1->ipykernel) (4.4.2)\n",
            "Requirement already satisfied: pickleshare in /usr/local/lib/python3.7/dist-packages (from ipython<8.0,>=7.23.1->ipykernel) (0.7.5)\n",
            "Requirement already satisfied: prompt-toolkit!=3.0.0,!=3.0.1,<3.1.0,>=2.0.0 in /usr/local/lib/python3.7/dist-packages (from ipython<8.0,>=7.23.1->ipykernel) (3.0.19)\n",
            "Requirement already satisfied: backcall in /usr/local/lib/python3.7/dist-packages (from ipython<8.0,>=7.23.1->ipykernel) (0.2.0)\n",
            "Requirement already satisfied: setuptools>=18.5 in /usr/local/lib/python3.7/dist-packages (from ipython<8.0,>=7.23.1->ipykernel) (57.2.0)\n",
            "Requirement already satisfied: pexpect>4.3 in /usr/local/lib/python3.7/dist-packages (from ipython<8.0,>=7.23.1->ipykernel) (4.8.0)\n",
            "Requirement already satisfied: jedi>=0.16 in /usr/local/lib/python3.7/dist-packages (from ipython<8.0,>=7.23.1->ipykernel) (0.18.0)\n",
            "Requirement already satisfied: pygments in /usr/local/lib/python3.7/dist-packages (from ipython<8.0,>=7.23.1->ipykernel) (2.6.1)\n",
            "Requirement already satisfied: parso<0.9.0,>=0.8.0 in /usr/local/lib/python3.7/dist-packages (from jedi>=0.16->ipython<8.0,>=7.23.1->ipykernel) (0.8.2)\n",
            "Requirement already satisfied: pyzmq>=13 in /usr/local/lib/python3.7/dist-packages (from jupyter-client<7.0->ipykernel) (22.1.0)\n",
            "Requirement already satisfied: jupyter-core>=4.6.0 in /usr/local/lib/python3.7/dist-packages (from jupyter-client<7.0->ipykernel) (4.7.1)\n",
            "Requirement already satisfied: python-dateutil>=2.1 in /usr/local/lib/python3.7/dist-packages (from jupyter-client<7.0->ipykernel) (2.8.1)\n",
            "Requirement already satisfied: ptyprocess>=0.5 in /usr/local/lib/python3.7/dist-packages (from pexpect>4.3->ipython<8.0,>=7.23.1->ipykernel) (0.7.0)\n",
            "Requirement already satisfied: wcwidth in /usr/local/lib/python3.7/dist-packages (from prompt-toolkit!=3.0.0,!=3.0.1,<3.1.0,>=2.0.0->ipython<8.0,>=7.23.1->ipykernel) (0.2.5)\n",
            "Requirement already satisfied: six>=1.5 in /usr/local/lib/python3.7/dist-packages (from python-dateutil>=2.1->jupyter-client<7.0->ipykernel) (1.15.0)\n",
            "Requirement already satisfied: ipython-genutils in /usr/local/lib/python3.7/dist-packages (from traitlets<6.0,>=4.1.0->ipykernel) (0.2.0)\n"
          ]
        }
      ],
      "metadata": {
        "colab": {
          "base_uri": "https://localhost:8080/"
        },
        "id": "S-li5etUJ15C",
        "outputId": "345349ac-7604-438b-ce6f-4fc88dedca52"
      }
    },
    {
      "cell_type": "code",
      "execution_count": null,
      "source": [
        "!pip install -q streamlit"
      ],
      "outputs": [
        {
          "output_type": "stream",
          "name": "stdout",
          "text": [
            "\u001b[K     |████████████████████████████████| 7.9 MB 8.0 MB/s \n",
            "\u001b[K     |████████████████████████████████| 111 kB 53.3 MB/s \n",
            "\u001b[K     |████████████████████████████████| 75 kB 4.5 MB/s \n",
            "\u001b[K     |████████████████████████████████| 170 kB 74.2 MB/s \n",
            "\u001b[K     |████████████████████████████████| 4.2 MB 35.4 MB/s \n",
            "\u001b[K     |████████████████████████████████| 122 kB 74.7 MB/s \n",
            "\u001b[K     |████████████████████████████████| 786 kB 51.4 MB/s \n",
            "\u001b[K     |████████████████████████████████| 368 kB 58.8 MB/s \n",
            "\u001b[K     |████████████████████████████████| 63 kB 2.3 MB/s \n",
            "\u001b[?25h  Building wheel for blinker (setup.py) ... \u001b[?25l\u001b[?25hdone\n",
            "\u001b[31mERROR: pip's dependency resolver does not currently take into account all the packages that are installed. This behaviour is the source of the following dependency conflicts.\n",
            "jupyter-console 5.2.0 requires prompt-toolkit<2.0.0,>=1.0.0, but you have prompt-toolkit 3.0.19 which is incompatible.\n",
            "google-colab 1.0.0 requires ipykernel~=4.10, but you have ipykernel 6.0.3 which is incompatible.\n",
            "google-colab 1.0.0 requires ipython~=5.5.0, but you have ipython 7.25.0 which is incompatible.\u001b[0m\n"
          ]
        }
      ],
      "metadata": {
        "colab": {
          "base_uri": "https://localhost:8080/"
        },
        "id": "Vni_iQyyOeOd",
        "outputId": "ad08b39e-f4be-4bec-ec46-f41ef5d673c4"
      }
    },
    {
      "cell_type": "code",
      "execution_count": null,
      "source": [
        "!pip install pyngrok"
      ],
      "outputs": [
        {
          "output_type": "stream",
          "name": "stdout",
          "text": [
            "Collecting pyngrok\n",
            "  Downloading pyngrok-5.0.5.tar.gz (745 kB)\n",
            "\u001b[K     |████████████████████████████████| 745 kB 7.0 MB/s \n",
            "\u001b[?25hRequirement already satisfied: PyYAML in /usr/local/lib/python3.7/dist-packages (from pyngrok) (3.13)\n",
            "Building wheels for collected packages: pyngrok\n",
            "  Building wheel for pyngrok (setup.py) ... \u001b[?25l\u001b[?25hdone\n",
            "  Created wheel for pyngrok: filename=pyngrok-5.0.5-py3-none-any.whl size=19262 sha256=1e8e1531c5e74fdcf02664c9da12f2308e688edf190c9edcd54c25b05d12b48a\n",
            "  Stored in directory: /root/.cache/pip/wheels/1b/f7/72/35c95a53d15b91dd00df6cf1304d49a31ec5ed6f954c2d4e32\n",
            "Successfully built pyngrok\n",
            "Installing collected packages: pyngrok\n",
            "Successfully installed pyngrok-5.0.5\n"
          ]
        }
      ],
      "metadata": {
        "colab": {
          "base_uri": "https://localhost:8080/"
        },
        "id": "u-Lwx6bDOvj0",
        "outputId": "7aa484d9-49df-4a83-cb4a-0a0cdaa553de"
      }
    },
    {
      "cell_type": "code",
      "execution_count": null,
      "source": [
        "%%writefile app.py\r\n",
        "import streamlit as st\r\n",
        "import tensorflow as tf\r\n",
        "import streamlit as st\r\n",
        "class_label=[\"T-shirt/top\", \"Trouser\",\"Pullover\",\"Dress\",\"Coat\",\"Sandal\",\"Shirt\",\"Sneaker\",\"Bag\",\"Ankle boot\"]\r\n",
        "\r\n",
        "@st.cache(allow_output_mutation=True)\r\n",
        "def load_model():\r\n",
        "  model=tf.keras.models.load_model('Fashion_MNIST_Project_Model.h5')\r\n",
        "  return model\r\n",
        "with st.spinner('Model is being loaded..'):\r\n",
        "  model=load_model()\r\n",
        "\r\n",
        "st.write(\"\"\"\r\n",
        "         # Fashion Classification\r\n",
        "         \"\"\"\r\n",
        "         )\r\n",
        "\r\n",
        "file = st.file_uploader(\"Please upload a Fashion Image file\", type=[\"jpg\", \"png\",\"jpeg\"])\r\n",
        "import cv2\r\n",
        "from PIL import Image, ImageOps\r\n",
        "import numpy as np\r\n",
        "st.set_option('deprecation.showfileUploaderEncoding', False)\r\n",
        "def import_and_predict(image_data, model):\r\n",
        "    \r\n",
        "        size = (28,28)    \r\n",
        "        image = ImageOps.fit(image_data, size, Image.ANTIALIAS)\r\n",
        "        image = np.asarray(image)\r\n",
        "        img = cv2.cvtColor(image, cv2.COLOR_BGR2GRAY)\r\n",
        "        #img_resize = (cv2.resize(img, dsize=(75, 75),    interpolation=cv2.INTER_CUBIC))/255.\r\n",
        "        img_reshape=np.expand_dims(img,-1)\r\n",
        "        img_reshape=np.expand_dims(img,0)\r\n",
        "        #img_reshape = img[np.newaxis,...]\r\n",
        "    \r\n",
        "        prediction = model.predict(img_reshape).round(2)\r\n",
        "        \r\n",
        "        return prediction\r\n",
        "if file is None:\r\n",
        "    st.text(\"Please upload an image file\")\r\n",
        "else:\r\n",
        "    image = Image.open(file)\r\n",
        "    st.image(image, use_column_width=True)\r\n",
        "    predictions = import_and_predict(image, model)\r\n",
        "    st.write(np.argmax(predictions))\r\n",
        "    st.write(predictions[0,np.argmax(predictions)])\r\n",
        "    st.write(\r\n",
        "    \"This image most likely belongs to {} with a {:.2f} percent confidence.\"\r\n",
        "    .format(class_label[np.argmax(predictions)], 100 * predictions[0,np.argmax(predictions)])\r\n",
        ")"
      ],
      "outputs": [
        {
          "output_type": "stream",
          "name": "stdout",
          "text": [
            "Overwriting app.py\n"
          ]
        }
      ],
      "metadata": {
        "colab": {
          "base_uri": "https://localhost:8080/"
        },
        "id": "MdZ_D1s1O5Q4",
        "outputId": "4e03a799-8be1-42c5-85ae-5cda13202757"
      }
    },
    {
      "cell_type": "code",
      "execution_count": null,
      "source": [
        "!ngrok authtoken ##Enter Your token here"
      ],
      "outputs": [
        {
          "output_type": "stream",
          "name": "stdout",
          "text": [
            "Authtoken saved to configuration file: /root/.ngrok2/ngrok.yml\n"
          ]
        }
      ],
      "metadata": {
        "colab": {
          "base_uri": "https://localhost:8080/"
        },
        "id": "-tq8BEiXhhzy",
        "outputId": "3defd394-2c49-4ee2-ec67-2e4d274a62be"
      }
    },
    {
      "cell_type": "code",
      "execution_count": null,
      "source": [
        "!nohup streamlit run app.py &"
      ],
      "outputs": [
        {
          "output_type": "stream",
          "name": "stdout",
          "text": [
            "nohup: appending output to 'nohup.out'\n"
          ]
        }
      ],
      "metadata": {
        "colab": {
          "base_uri": "https://localhost:8080/"
        },
        "id": "kGDff-nFhizC",
        "outputId": "31ee9166-b3ce-47bb-b96a-668e6cb9a9b2"
      }
    },
    {
      "cell_type": "code",
      "execution_count": null,
      "source": [
        "!streamlit run --server.port 80 app.py >/dev/null"
      ],
      "outputs": [
        {
          "output_type": "stream",
          "name": "stdout",
          "text": [
            "2021-07-25 22:13:18.663154: I tensorflow/stream_executor/platform/default/dso_loader.cc:53] Successfully opened dynamic library libcudart.so.11.0\n",
            "2021-07-25 22:13:20.514908: I tensorflow/stream_executor/platform/default/dso_loader.cc:53] Successfully opened dynamic library libcuda.so.1\n",
            "2021-07-25 22:13:20.526873: E tensorflow/stream_executor/cuda/cuda_driver.cc:328] failed call to cuInit: CUDA_ERROR_NO_DEVICE: no CUDA-capable device is detected\n",
            "2021-07-25 22:13:20.526931: I tensorflow/stream_executor/cuda/cuda_diagnostics.cc:156] kernel driver does not appear to be running on this host (50393e92481f): /proc/driver/nvidia/version does not exist\n"
          ]
        }
      ],
      "metadata": {
        "colab": {
          "base_uri": "https://localhost:8080/"
        },
        "id": "hPV5jdoJr16A",
        "outputId": "ee0aaddd-a254-4050-d32e-b51bcf6bc9b2"
      }
    },
    {
      "cell_type": "code",
      "execution_count": null,
      "source": [
        "from pyngrok import ngrok\r\n",
        "url=ngrok.connect(port=8501)\r\n",
        "url"
      ],
      "outputs": [
        {
          "output_type": "execute_result",
          "data": {
            "text/plain": [
              "<NgrokTunnel: \"http://ee43cc5e1637.ngrok.io\" -> \"http://localhost:80\">"
            ]
          },
          "metadata": {
            "tags": []
          },
          "execution_count": 4
        }
      ],
      "metadata": {
        "colab": {
          "base_uri": "https://localhost:8080/"
        },
        "id": "Z0FXXsDxhn0i",
        "outputId": "60c98a8c-f507-4276-bfa7-197ed40209b4"
      }
    },
    {
      "cell_type": "markdown",
      "source": [
        "## **Or try the below code if above doesn't work**"
      ],
      "metadata": {
        "id": "ZrwVewx2yNOs"
      }
    },
    {
      "cell_type": "code",
      "execution_count": null,
      "source": [
        "!wget https://bin.equinox.io/c/4VmDzA7iaHb/ngrok-stable-linux-amd64.zip"
      ],
      "outputs": [
        {
          "output_type": "stream",
          "name": "stdout",
          "text": [
            "--2021-07-25 22:31:00--  https://bin.equinox.io/c/4VmDzA7iaHb/ngrok-stable-linux-amd64.zip\n",
            "Resolving bin.equinox.io (bin.equinox.io)... 52.45.38.23, 3.223.240.69, 34.228.108.156, ...\n",
            "Connecting to bin.equinox.io (bin.equinox.io)|52.45.38.23|:443... connected.\n",
            "HTTP request sent, awaiting response... 200 OK\n",
            "Length: 13832437 (13M) [application/octet-stream]\n",
            "Saving to: ‘ngrok-stable-linux-amd64.zip’\n",
            "\n",
            "ngrok-stable-linux- 100%[===================>]  13.19M  17.6MB/s    in 0.8s    \n",
            "\n",
            "2021-07-25 22:31:01 (17.6 MB/s) - ‘ngrok-stable-linux-amd64.zip’ saved [13832437/13832437]\n",
            "\n"
          ]
        }
      ],
      "metadata": {
        "colab": {
          "base_uri": "https://localhost:8080/"
        },
        "id": "NtsWx3tqka0X",
        "outputId": "d94e1ab9-f543-4274-fab4-a953d776ed66"
      }
    },
    {
      "cell_type": "code",
      "execution_count": null,
      "source": [
        "!unzip ngrok-stable-linux-amd64.zip"
      ],
      "outputs": [
        {
          "output_type": "stream",
          "name": "stdout",
          "text": [
            "Archive:  ngrok-stable-linux-amd64.zip\n",
            "  inflating: ngrok                   \n"
          ]
        }
      ],
      "metadata": {
        "colab": {
          "base_uri": "https://localhost:8080/"
        },
        "id": "26wzxNfHvENQ",
        "outputId": "38def089-7b00-4fc8-8b6b-0d161ee42934"
      }
    },
    {
      "cell_type": "code",
      "execution_count": null,
      "source": [
        "get_ipython().system_raw('./ngrok http 8501 &')"
      ],
      "outputs": [],
      "metadata": {
        "id": "M9lcB3vVvKBR"
      }
    },
    {
      "cell_type": "code",
      "execution_count": null,
      "source": [
        "!curl -s http://localhost:4040/api/tunnels | python3 -c \\\r\n",
        "    'import sys, json; print(\"Execute the next cell and the go to the following URL: \" +json.load(sys.stdin)[\"tunnels\"][0][\"public_url\"])'"
      ],
      "outputs": [
        {
          "output_type": "stream",
          "name": "stdout",
          "text": [
            "Execute the next cell and the go to the following URL: https://4b2d24eca0c6.ngrok.io\n"
          ]
        }
      ],
      "metadata": {
        "colab": {
          "base_uri": "https://localhost:8080/"
        },
        "id": "bqNel94DvOXB",
        "outputId": "e1861abb-9ee3-4eaa-a7d2-085b3fc027ba"
      }
    },
    {
      "cell_type": "code",
      "execution_count": null,
      "source": [
        "!streamlit run /content/app.py"
      ],
      "outputs": [
        {
          "output_type": "stream",
          "name": "stdout",
          "text": [
            "2021-07-25 22:32:19.833036: I tensorflow/stream_executor/platform/default/dso_loader.cc:53] Successfully opened dynamic library libcudart.so.11.0\n",
            "\u001b[0m\n",
            "\u001b[34m\u001b[1m  You can now view your Streamlit app in your browser.\u001b[0m\n",
            "\u001b[0m\n",
            "\u001b[34m  Network URL: \u001b[0m\u001b[1mhttp://172.28.0.2:8503\u001b[0m\n",
            "\u001b[34m  External URL: \u001b[0m\u001b[1mhttp://34.83.39.210:8503\u001b[0m\n",
            "\u001b[0m\n",
            "2021-07-25 22:32:21.615297: I tensorflow/stream_executor/platform/default/dso_loader.cc:53] Successfully opened dynamic library libcuda.so.1\n",
            "2021-07-25 22:32:21.627158: E tensorflow/stream_executor/cuda/cuda_driver.cc:328] failed call to cuInit: CUDA_ERROR_NO_DEVICE: no CUDA-capable device is detected\n",
            "2021-07-25 22:32:21.627207: I tensorflow/stream_executor/cuda/cuda_diagnostics.cc:156] kernel driver does not appear to be running on this host (50393e92481f): /proc/driver/nvidia/version does not exist\n"
          ]
        }
      ],
      "metadata": {
        "colab": {
          "background_save": true,
          "base_uri": "https://localhost:8080/"
        },
        "id": "9u_uD3y3vSKB",
        "outputId": "5504744b-3773-4981-e322-70b7092c19a9"
      }
    },
    {
      "cell_type": "code",
      "execution_count": null,
      "source": [],
      "outputs": [],
      "metadata": {
        "id": "BokxhoIzvWZ_"
      }
    }
  ]
}